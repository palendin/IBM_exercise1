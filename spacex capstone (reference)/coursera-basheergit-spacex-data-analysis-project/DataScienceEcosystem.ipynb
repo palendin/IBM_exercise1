{
 "cells": [
  {
   "cell_type": "markdown",
   "metadata": {},
   "source": [
    "# Data science notebook.ipynb"
   ]
  },
  {
   "cell_type": "markdown",
   "metadata": {},
   "source": [
    "This is Jupyter Notebook for assignment for the course in Coursera. The name of the notebook is Data science notebook.ipynb"
   ]
  },
  {
   "cell_type": "markdown",
   "metadata": {},
   "source": [
    "In this notebook we will give simple arthmetic code and execute to check the functions and outputs. And also tell us about Some of the popular languages that Data Scientists use"
   ]
  },
  {
   "cell_type": "markdown",
   "metadata": {},
   "source": [
    "Some of the popular languages that Data Scientists use are:\n",
    "1.Python\n",
    "2.R\n",
    "3.SQL\n",
    "4.Java\n",
    "5.Scala\n",
    "6.C++\n",
    "7.php\n",
    "8.Ruby\n",
    "9.Javascript\n",
    "10.Go\n",
    "\n",
    "These languages are chosen for their versatility in data manipulation, analysis, and visualization. "
   ]
  },
  {
   "cell_type": "markdown",
   "metadata": {},
   "source": [
    "Some of the commonly used libraries used by Data Scientists include:\n",
    "1.NumPy.\n",
    "2.Keras.\n",
    "3.Pandas.\n",
    "4.PyTorch.\n",
    "5.SciPy.\n",
    "6.Scikit-Learn.\n",
    "7.TensorFlow.\n",
    "8.Matplotlib."
   ]
  },
  {
   "cell_type": "markdown",
   "metadata": {},
   "source": [
    "Data Science languages\n",
    "\n",
    "| Programming Language | Developer             |\n",
    "|---------------------|-----------------------|\n",
    "| Python              | Python Software Foundation |\n",
    "| Java                | Oracle Corporation    |\n",
    "| C                   | Dennis Ritchie, Bell Labs |\n",
    "| Go                  | The Go Authors        |\n"
   ]
  },
  {
   "cell_type": "markdown",
   "metadata": {},
   "source": [
    "| Data Science Tools       |\n",
    "|-------------------------|\n",
    "| Jupyter Notebook        |\n",
    "| RStudio                 |\n",
    "| Apache Zeppelin         |\n",
    "| VS Code                 |\n",
    "| Spyder                  |\n"
   ]
  },
  {
   "cell_type": "markdown",
   "metadata": {},
   "source": [
    "###Below are a few examples of evaluating arithmetic expressions in Python"
   ]
  },
  {
   "cell_type": "code",
   "execution_count": 1,
   "metadata": {},
   "outputs": [
    {
     "data": {
      "text/plain": [
       "53"
      ]
     },
     "execution_count": 1,
     "metadata": {},
     "output_type": "execute_result"
    }
   ],
   "source": [
    "# Simple arthimetic expression to add the numbers\n",
    "\n",
    "3+5+45\n"
   ]
  },
  {
   "cell_type": "code",
   "execution_count": 2,
   "metadata": {},
   "outputs": [
    {
     "data": {
      "text/plain": [
       "675"
      ]
     },
     "execution_count": 2,
     "metadata": {},
     "output_type": "execute_result"
    }
   ],
   "source": [
    "# Simple arthimetic expression to multiply the numbers\n",
    "\n",
    "3*5*45\n"
   ]
  },
  {
   "cell_type": "code",
   "execution_count": 1,
   "metadata": {},
   "outputs": [
    {
     "name": "stdout",
     "output_type": "stream",
     "text": [
      "52 28 480 3.3333333333333335 3 4\n"
     ]
    }
   ],
   "source": [
    "x = 40\n",
    "y = 12\n",
    "\n",
    "add = x + y        # Addition: 52\n",
    "sub = x - y        # Subtraction: 28\n",
    "mul = x * y        # Multiplication: 480\n",
    "div = x / y        # Division (float): 3.3333...\n",
    "floor_div = x // y  # Floor division (quotient): 3\n",
    "mod = x % y        # Modulus (remainder): 4\n",
    "\n",
    "print(add, sub, mul, div, floor_div, mod)\n"
   ]
  },
  {
   "cell_type": "markdown",
   "metadata": {},
   "source": [
    "# Function to convert minutes to hours"
   ]
  },
  {
   "cell_type": "code",
   "execution_count": 2,
   "metadata": {},
   "outputs": [
    {
     "name": "stdout",
     "output_type": "stream",
     "text": [
      "135 minutes is equal to 2.25 hours.\n"
     ]
    }
   ],
   "source": [
    "\n",
    "def minutes_to_hours(minutes):\n",
    "    hours = minutes / 60\n",
    "    return hours\n",
    "\n",
    "# Example usage\n",
    "minutes = 135\n",
    "hours = minutes_to_hours(minutes)\n",
    "print(f\"{minutes} minutes is equal to {hours} hours.\")\n"
   ]
  },
  {
   "cell_type": "code",
   "execution_count": 3,
   "metadata": {},
   "outputs": [
    {
     "data": {
      "text/plain": [
       "2.25"
      ]
     },
     "execution_count": 3,
     "metadata": {},
     "output_type": "execute_result"
    }
   ],
   "source": [
    "# converts minutes into hours\n",
    "\n",
    "135/60"
   ]
  },
  {
   "cell_type": "markdown",
   "metadata": {},
   "source": [
    "# Objective of this notebook:\n",
    "1. To list popular languages that Data Scientists use\n",
    "2. To list commonly used libraries used by Data Scientists\n",
    "3. To make a table of popular languages and libraries\n",
    "4. To see the evaluating of arithmetic expressions in Python\n",
    "5. To see the Function to convert minutes to hours"
   ]
  },
  {
   "cell_type": "markdown",
   "metadata": {},
   "source": [
    "## Author \n",
    "Basheer"
   ]
  }
 ],
 "metadata": {
  "kernelspec": {
   "display_name": "Python 3 (ipykernel)",
   "language": "python",
   "name": "python3"
  },
  "language_info": {
   "codemirror_mode": {
    "name": "ipython",
    "version": 3
   },
   "file_extension": ".py",
   "mimetype": "text/x-python",
   "name": "python",
   "nbconvert_exporter": "python",
   "pygments_lexer": "ipython3",
   "version": "3.12.3"
  }
 },
 "nbformat": 4,
 "nbformat_minor": 4
}
