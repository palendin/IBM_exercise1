{
 "cells": [
  {
   "cell_type": "markdown",
   "metadata": {},
   "source": [
    "# Data Analysis with SQL"
   ]
  },
  {
   "cell_type": "code",
   "execution_count": 1,
   "metadata": {},
   "outputs": [],
   "source": [
    "%load_ext sql"
   ]
  },
  {
   "cell_type": "code",
   "execution_count": 2,
   "metadata": {},
   "outputs": [],
   "source": [
    "import csv, sqlite3\n",
    "import pandas as pd"
   ]
  },
  {
   "cell_type": "code",
   "execution_count": 3,
   "metadata": {},
   "outputs": [],
   "source": [
    "%sql sqlite:///my_data1.db"
   ]
  },
  {
   "cell_type": "code",
   "execution_count": 4,
   "metadata": {},
   "outputs": [
    {
     "data": {
      "text/plain": [
       "114"
      ]
     },
     "execution_count": 4,
     "metadata": {},
     "output_type": "execute_result"
    }
   ],
   "source": [
    "con = sqlite3.connect(\"my_data1.db\")\n",
    "cur = con.cursor()\n",
    "df = pd.read_csv(\"Data_SpaceX_WebScrapped.csv\")\n",
    "df.to_sql(\"SPACEXTBL\", con, if_exists='replace', index=False,method=\"multi\")"
   ]
  },
  {
   "cell_type": "code",
   "execution_count": 5,
   "metadata": {},
   "outputs": [
    {
     "name": "stdout",
     "output_type": "stream",
     "text": [
      " * sqlite:///my_data1.db\n",
      "Done.\n"
     ]
    },
    {
     "data": {
      "text/plain": [
       "[]"
      ]
     },
     "execution_count": 5,
     "metadata": {},
     "output_type": "execute_result"
    }
   ],
   "source": [
    "%sql create table SPACEXTABLE as select * from SPACEXTBL where Date is not null"
   ]
  },
  {
   "cell_type": "code",
   "execution_count": 6,
   "metadata": {},
   "outputs": [
    {
     "name": "stdout",
     "output_type": "stream",
     "text": [
      " * sqlite:///my_data1.db\n",
      "Done.\n"
     ]
    },
    {
     "data": {
      "text/html": [
       "<table>\n",
       "    <thead>\n",
       "        <tr>\n",
       "            <th>Launch site</th>\n",
       "            <th>Payload</th>\n",
       "            <th>Payload mass</th>\n",
       "            <th>Orbit</th>\n",
       "            <th>Customer</th>\n",
       "            <th>Launch outcome</th>\n",
       "            <th>Version Booster</th>\n",
       "            <th>Booster landing</th>\n",
       "            <th>Date</th>\n",
       "            <th>Time</th>\n",
       "        </tr>\n",
       "    </thead>\n",
       "    <tbody>\n",
       "        <tr>\n",
       "            <td>CCAFS</td>\n",
       "            <td>Dragon</td>\n",
       "            <td>525</td>\n",
       "            <td>LEO</td>\n",
       "            <td>NASA</td>\n",
       "            <td>Success</td>\n",
       "            <td>F9 v1.0B0005.1</td>\n",
       "            <td>No attempt</td>\n",
       "            <td>2012-05-22</td>\n",
       "            <td>07:44:00</td>\n",
       "        </tr>\n",
       "        <tr>\n",
       "            <td>CCAFS</td>\n",
       "            <td>SpaceX CRS-1</td>\n",
       "            <td>4700</td>\n",
       "            <td>LEO</td>\n",
       "            <td>NASA</td>\n",
       "            <td>Success</td>\n",
       "            <td>F9 v1.0B0006.1</td>\n",
       "            <td>No attempt</td>\n",
       "            <td>2012-10-08</td>\n",
       "            <td>00:35:00</td>\n",
       "        </tr>\n",
       "        <tr>\n",
       "            <td>CCAFS</td>\n",
       "            <td>SpaceX CRS-2</td>\n",
       "            <td>4877</td>\n",
       "            <td>LEO</td>\n",
       "            <td>NASA</td>\n",
       "            <td>Success</td>\n",
       "            <td>F9 v1.0B0007.1</td>\n",
       "            <td>No attempt</td>\n",
       "            <td>2013-03-01</td>\n",
       "            <td>15:10:00</td>\n",
       "        </tr>\n",
       "        <tr>\n",
       "            <td>VAFB</td>\n",
       "            <td>CASSIOPE</td>\n",
       "            <td>500</td>\n",
       "            <td>Polar orbit</td>\n",
       "            <td>MDA</td>\n",
       "            <td>Success</td>\n",
       "            <td>F9 v1.1B1003</td>\n",
       "            <td>Uncontrolled</td>\n",
       "            <td>2013-09-29</td>\n",
       "            <td>16:00:00</td>\n",
       "        </tr>\n",
       "    </tbody>\n",
       "</table>"
      ],
      "text/plain": [
       "[('CCAFS', 'Dragon', 525, 'LEO', 'NASA', 'Success', 'F9 v1.0B0005.1', 'No attempt', '2012-05-22', '07:44:00'),\n",
       " ('CCAFS', 'SpaceX CRS-1', 4700, 'LEO', 'NASA', 'Success', 'F9 v1.0B0006.1', 'No attempt', '2012-10-08', '00:35:00'),\n",
       " ('CCAFS', 'SpaceX CRS-2', 4877, 'LEO', 'NASA', 'Success', 'F9 v1.0B0007.1', 'No attempt', '2013-03-01', '15:10:00'),\n",
       " ('VAFB', 'CASSIOPE', 500, 'Polar orbit', 'MDA', 'Success', 'F9 v1.1B1003', 'Uncontrolled', '2013-09-29', '16:00:00')]"
      ]
     },
     "execution_count": 6,
     "metadata": {},
     "output_type": "execute_result"
    }
   ],
   "source": [
    "%sql select * from SPACEXTABLE limit 4"
   ]
  },
  {
   "cell_type": "code",
   "execution_count": 7,
   "metadata": {},
   "outputs": [
    {
     "name": "stdout",
     "output_type": "stream",
     "text": [
      " * sqlite:///my_data1.db\n",
      "Done.\n"
     ]
    },
    {
     "data": {
      "text/html": [
       "<table>\n",
       "    <thead>\n",
       "        <tr>\n",
       "            <th>Launch site</th>\n",
       "        </tr>\n",
       "    </thead>\n",
       "    <tbody>\n",
       "        <tr>\n",
       "            <td>CCAFS</td>\n",
       "        </tr>\n",
       "        <tr>\n",
       "            <td>VAFB</td>\n",
       "        </tr>\n",
       "        <tr>\n",
       "            <td>Cape Canaveral</td>\n",
       "        </tr>\n",
       "        <tr>\n",
       "            <td>KSC</td>\n",
       "        </tr>\n",
       "        <tr>\n",
       "            <td>CCSFS</td>\n",
       "        </tr>\n",
       "    </tbody>\n",
       "</table>"
      ],
      "text/plain": [
       "[('CCAFS',), ('VAFB',), ('Cape Canaveral',), ('KSC',), ('CCSFS',)]"
      ]
     },
     "execution_count": 7,
     "metadata": {},
     "output_type": "execute_result"
    }
   ],
   "source": [
    "%sql select distinct [Launch site] from SPACEXTABLE"
   ]
  },
  {
   "cell_type": "code",
   "execution_count": 8,
   "metadata": {},
   "outputs": [
    {
     "name": "stdout",
     "output_type": "stream",
     "text": [
      " * sqlite:///my_data1.db\n",
      "Done.\n"
     ]
    },
    {
     "data": {
      "text/html": [
       "<table>\n",
       "    <thead>\n",
       "        <tr>\n",
       "            <th>Launch site</th>\n",
       "            <th>Payload</th>\n",
       "            <th>Payload mass</th>\n",
       "            <th>Orbit</th>\n",
       "            <th>Customer</th>\n",
       "            <th>Launch outcome</th>\n",
       "            <th>Version Booster</th>\n",
       "            <th>Booster landing</th>\n",
       "            <th>Date</th>\n",
       "            <th>Time</th>\n",
       "        </tr>\n",
       "    </thead>\n",
       "    <tbody>\n",
       "        <tr>\n",
       "            <td>CCAFS</td>\n",
       "            <td>Dragon</td>\n",
       "            <td>525</td>\n",
       "            <td>LEO</td>\n",
       "            <td>NASA</td>\n",
       "            <td>Success</td>\n",
       "            <td>F9 v1.0B0005.1</td>\n",
       "            <td>No attempt</td>\n",
       "            <td>2012-05-22</td>\n",
       "            <td>07:44:00</td>\n",
       "        </tr>\n",
       "        <tr>\n",
       "            <td>CCAFS</td>\n",
       "            <td>SpaceX CRS-1</td>\n",
       "            <td>4700</td>\n",
       "            <td>LEO</td>\n",
       "            <td>NASA</td>\n",
       "            <td>Success</td>\n",
       "            <td>F9 v1.0B0006.1</td>\n",
       "            <td>No attempt</td>\n",
       "            <td>2012-10-08</td>\n",
       "            <td>00:35:00</td>\n",
       "        </tr>\n",
       "        <tr>\n",
       "            <td>CCAFS</td>\n",
       "            <td>SpaceX CRS-2</td>\n",
       "            <td>4877</td>\n",
       "            <td>LEO</td>\n",
       "            <td>NASA</td>\n",
       "            <td>Success</td>\n",
       "            <td>F9 v1.0B0007.1</td>\n",
       "            <td>No attempt</td>\n",
       "            <td>2013-03-01</td>\n",
       "            <td>15:10:00</td>\n",
       "        </tr>\n",
       "        <tr>\n",
       "            <td>CCAFS</td>\n",
       "            <td>SES-8</td>\n",
       "            <td>3170</td>\n",
       "            <td>GTO</td>\n",
       "            <td>SES</td>\n",
       "            <td>Success</td>\n",
       "            <td>F9 v1.1</td>\n",
       "            <td>No attempt</td>\n",
       "            <td>2013-12-03</td>\n",
       "            <td>22:41:00</td>\n",
       "        </tr>\n",
       "        <tr>\n",
       "            <td>CCAFS</td>\n",
       "            <td>Thaicom 6</td>\n",
       "            <td>3325</td>\n",
       "            <td>GTO</td>\n",
       "            <td>Thaicom</td>\n",
       "            <td>Success</td>\n",
       "            <td>F9 v1.1</td>\n",
       "            <td>No attempt</td>\n",
       "            <td>2014-01-06</td>\n",
       "            <td>22:06:00</td>\n",
       "        </tr>\n",
       "    </tbody>\n",
       "</table>"
      ],
      "text/plain": [
       "[('CCAFS', 'Dragon', 525, 'LEO', 'NASA', 'Success', 'F9 v1.0B0005.1', 'No attempt', '2012-05-22', '07:44:00'),\n",
       " ('CCAFS', 'SpaceX CRS-1', 4700, 'LEO', 'NASA', 'Success', 'F9 v1.0B0006.1', 'No attempt', '2012-10-08', '00:35:00'),\n",
       " ('CCAFS', 'SpaceX CRS-2', 4877, 'LEO', 'NASA', 'Success', 'F9 v1.0B0007.1', 'No attempt', '2013-03-01', '15:10:00'),\n",
       " ('CCAFS', 'SES-8', 3170, 'GTO', 'SES', 'Success', 'F9 v1.1', 'No attempt', '2013-12-03', '22:41:00'),\n",
       " ('CCAFS', 'Thaicom 6', 3325, 'GTO', 'Thaicom', 'Success', 'F9 v1.1', 'No attempt', '2014-01-06', '22:06:00')]"
      ]
     },
     "execution_count": 8,
     "metadata": {},
     "output_type": "execute_result"
    }
   ],
   "source": [
    "%sql select * from SPACEXTABLE where [Launch site] like 'CCA%' limit 5"
   ]
  },
  {
   "cell_type": "code",
   "execution_count": 9,
   "metadata": {},
   "outputs": [
    {
     "name": "stdout",
     "output_type": "stream",
     "text": [
      " * sqlite:///my_data1.db\n",
      "Done.\n"
     ]
    },
    {
     "data": {
      "text/html": [
       "<table>\n",
       "    <thead>\n",
       "        <tr>\n",
       "            <th>sum([Payload mass])</th>\n",
       "        </tr>\n",
       "    </thead>\n",
       "    <tbody>\n",
       "        <tr>\n",
       "            <td>124708</td>\n",
       "        </tr>\n",
       "    </tbody>\n",
       "</table>"
      ],
      "text/plain": [
       "[(124708,)]"
      ]
     },
     "execution_count": 9,
     "metadata": {},
     "output_type": "execute_result"
    }
   ],
   "source": [
    "%sql select sum([Payload mass]) from SPACEXTABLE where Customer = 'NASA'"
   ]
  },
  {
   "cell_type": "code",
   "execution_count": 10,
   "metadata": {},
   "outputs": [
    {
     "name": "stdout",
     "output_type": "stream",
     "text": [
      " * sqlite:///my_data1.db\n",
      "Done.\n"
     ]
    },
    {
     "data": {
      "text/html": [
       "<table>\n",
       "    <thead>\n",
       "        <tr>\n",
       "            <th>avg([Payload mass])</th>\n",
       "        </tr>\n",
       "    </thead>\n",
       "    <tbody>\n",
       "        <tr>\n",
       "            <td>2524.076923076923</td>\n",
       "        </tr>\n",
       "    </tbody>\n",
       "</table>"
      ],
      "text/plain": [
       "[(2524.076923076923,)]"
      ]
     },
     "execution_count": 10,
     "metadata": {},
     "output_type": "execute_result"
    }
   ],
   "source": [
    "%sql select avg([Payload mass]) from SPACEXTABLE where [Version Booster]= 'F9 v1.1'"
   ]
  },
  {
   "cell_type": "code",
   "execution_count": 11,
   "metadata": {},
   "outputs": [
    {
     "name": "stdout",
     "output_type": "stream",
     "text": [
      " * sqlite:///my_data1.db\n",
      "Done.\n"
     ]
    },
    {
     "data": {
      "text/html": [
       "<table>\n",
       "    <thead>\n",
       "        <tr>\n",
       "            <th>min(Date)</th>\n",
       "        </tr>\n",
       "    </thead>\n",
       "    <tbody>\n",
       "        <tr>\n",
       "            <td>2015-12-22</td>\n",
       "        </tr>\n",
       "    </tbody>\n",
       "</table>"
      ],
      "text/plain": [
       "[('2015-12-22',)]"
      ]
     },
     "execution_count": 11,
     "metadata": {},
     "output_type": "execute_result"
    }
   ],
   "source": [
    "%sql select min(Date) from SPACEXTABLE where [Booster landing] = 'Success'"
   ]
  },
  {
   "cell_type": "code",
   "execution_count": 12,
   "metadata": {},
   "outputs": [
    {
     "name": "stdout",
     "output_type": "stream",
     "text": [
      " * sqlite:///my_data1.db\n",
      "Done.\n"
     ]
    },
    {
     "data": {
      "text/html": [
       "<table>\n",
       "    <thead>\n",
       "        <tr>\n",
       "            <th>Version Booster</th>\n",
       "        </tr>\n",
       "    </thead>\n",
       "    <tbody>\n",
       "        <tr>\n",
       "            <td>F9 FT</td>\n",
       "        </tr>\n",
       "        <tr>\n",
       "            <td>F9 B4</td>\n",
       "        </tr>\n",
       "        <tr>\n",
       "            <td>F9 FTB1031.2</td>\n",
       "        </tr>\n",
       "        <tr>\n",
       "            <td>F9 B5B1046.2</td>\n",
       "        </tr>\n",
       "        <tr>\n",
       "            <td>F9 B5B1047.2</td>\n",
       "        </tr>\n",
       "        <tr>\n",
       "            <td>F9 B5B1046.3</td>\n",
       "        </tr>\n",
       "        <tr>\n",
       "            <td>F9 B5B1048.3</td>\n",
       "        </tr>\n",
       "        <tr>\n",
       "            <td>F9 B5B1051.2</td>\n",
       "        </tr>\n",
       "        <tr>\n",
       "            <td>F9 B5</td>\n",
       "        </tr>\n",
       "        <tr>\n",
       "            <td>F9 B5B1058.2</td>\n",
       "        </tr>\n",
       "    </tbody>\n",
       "</table>"
      ],
      "text/plain": [
       "[('F9 FT',),\n",
       " ('F9 B4',),\n",
       " ('F9 FTB1031.2',),\n",
       " ('F9 B5B1046.2',),\n",
       " ('F9 B5B1047.2',),\n",
       " ('F9 B5B1046.3',),\n",
       " ('F9 B5B1048.3',),\n",
       " ('F9 B5B1051.2',),\n",
       " ('F9 B5',),\n",
       " ('F9 B5B1058.2',)]"
      ]
     },
     "execution_count": 12,
     "metadata": {},
     "output_type": "execute_result"
    }
   ],
   "source": [
    "%sql select distinct [Version Booster] from SPACEXTABLE where [Booster landing] = 'Success' and [Payload mass] between 4000 and 6000"
   ]
  },
  {
   "cell_type": "code",
   "execution_count": 13,
   "metadata": {},
   "outputs": [
    {
     "name": "stdout",
     "output_type": "stream",
     "text": [
      " * sqlite:///my_data1.db\n",
      "Done.\n"
     ]
    },
    {
     "data": {
      "text/html": [
       "<table>\n",
       "    <thead>\n",
       "        <tr>\n",
       "            <th>Launch outcome</th>\n",
       "            <th>count([Launch outcome])</th>\n",
       "        </tr>\n",
       "    </thead>\n",
       "    <tbody>\n",
       "        <tr>\n",
       "            <td>Failure</td>\n",
       "            <td>1</td>\n",
       "        </tr>\n",
       "        <tr>\n",
       "            <td>Success</td>\n",
       "            <td>113</td>\n",
       "        </tr>\n",
       "    </tbody>\n",
       "</table>"
      ],
      "text/plain": [
       "[('Failure', 1), ('Success', 113)]"
      ]
     },
     "execution_count": 13,
     "metadata": {},
     "output_type": "execute_result"
    }
   ],
   "source": [
    "%sql select [Launch outcome],count([Launch outcome]) from SPACEXTABLE group by [Launch outcome]"
   ]
  }
 ],
 "metadata": {
  "kernelspec": {
   "display_name": "Python 3 (ipykernel)",
   "language": "python",
   "name": "python3"
  },
  "language_info": {
   "codemirror_mode": {
    "name": "ipython",
    "version": 3
   },
   "file_extension": ".py",
   "mimetype": "text/x-python",
   "name": "python",
   "nbconvert_exporter": "python",
   "pygments_lexer": "ipython3",
   "version": "3.12.3"
  }
 },
 "nbformat": 4,
 "nbformat_minor": 4
}
